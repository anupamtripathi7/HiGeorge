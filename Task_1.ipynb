{
 "cells": [
  {
   "cell_type": "markdown",
   "metadata": {
    "collapsed": true
   },
   "source": [
    "<h1>Part 1: Classifying Crimes with Machine Learning</h1>"
   ]
  },
  {
   "cell_type": "code",
   "execution_count": 1,
   "metadata": {},
   "outputs": [],
   "source": [
    "%load_ext autoreload\n",
    "%autoreload 2"
   ]
  },
  {
   "cell_type": "code",
   "execution_count": 2,
   "metadata": {},
   "outputs": [],
   "source": [
    "import torch\n",
    "import pandas as pd\n",
    "import numpy as np\n",
    "import os\n",
    "from tqdm import tqdm\n",
    "import matplotlib.pyplot as plt"
   ]
  },
  {
   "cell_type": "code",
   "execution_count": 3,
   "metadata": {},
   "outputs": [],
   "source": [
    "root = ''\n",
    "data_path = os.path.join(root, 'data')\n",
    "device = torch.device(\"cuda\" if torch.cuda.is_available() else \"cpu\")\n",
    "tqdm.pandas()"
   ]
  },
  {
   "cell_type": "markdown",
   "metadata": {},
   "source": [
    "<br>For the given task, we look to build a pipeline for which we have the following subtasks:<br>\n",
    "1) Data Exploration<br>\n",
    "2) Data Preprocessing<br>\n",
    "3) Modeling\n",
    "<br><br>"
   ]
  },
  {
   "cell_type": "code",
   "execution_count": 4,
   "metadata": {},
   "outputs": [
    {
     "data": {
      "text/html": [
       "<div>\n",
       "<style scoped>\n",
       "    .dataframe tbody tr th:only-of-type {\n",
       "        vertical-align: middle;\n",
       "    }\n",
       "\n",
       "    .dataframe tbody tr th {\n",
       "        vertical-align: top;\n",
       "    }\n",
       "\n",
       "    .dataframe thead th {\n",
       "        text-align: right;\n",
       "    }\n",
       "</style>\n",
       "<table border=\"1\" class=\"dataframe\">\n",
       "  <thead>\n",
       "    <tr style=\"text-align: right;\">\n",
       "      <th></th>\n",
       "      <th>description</th>\n",
       "      <th>category</th>\n",
       "    </tr>\n",
       "  </thead>\n",
       "  <tbody>\n",
       "    <tr>\n",
       "      <th>0</th>\n",
       "      <td>LARCENY/THEFT</td>\n",
       "      <td>Property Crime</td>\n",
       "    </tr>\n",
       "    <tr>\n",
       "      <th>1</th>\n",
       "      <td>BMV</td>\n",
       "      <td>Property Crime</td>\n",
       "    </tr>\n",
       "    <tr>\n",
       "      <th>2</th>\n",
       "      <td>LARCENY/THEFT</td>\n",
       "      <td>Property Crime</td>\n",
       "    </tr>\n",
       "    <tr>\n",
       "      <th>3</th>\n",
       "      <td>Petit Larceny</td>\n",
       "      <td>Property Crime</td>\n",
       "    </tr>\n",
       "    <tr>\n",
       "      <th>4</th>\n",
       "      <td>AUTO THEFT/PASSENGER VEHICLE</td>\n",
       "      <td>Property Crime</td>\n",
       "    </tr>\n",
       "  </tbody>\n",
       "</table>\n",
       "</div>"
      ],
      "text/plain": [
       "                    description        category\n",
       "0                 LARCENY/THEFT  Property Crime\n",
       "1                           BMV  Property Crime\n",
       "2                 LARCENY/THEFT  Property Crime\n",
       "3                 Petit Larceny  Property Crime\n",
       "4  AUTO THEFT/PASSENGER VEHICLE  Property Crime"
      ]
     },
     "execution_count": 4,
     "metadata": {},
     "output_type": "execute_result"
    }
   ],
   "source": [
    "# Read train dataset\n",
    "train_df = pd.read_csv(os.path.join(data_path, 'Crime Descriptions - crime-descriptions.csv'))\n",
    "test_df = pd.read_csv(os.path.join(data_path, 'Crime Descriptions - uncategorized.csv'))\n",
    "train_df.head()"
   ]
  },
  {
   "cell_type": "markdown",
   "metadata": {},
   "source": [
    "<br><h3>1) Data Exploration: Analyze dataset for finding the best preprocessing and modeling techniques</h3>\n",
    "By looking at the data, we see that the preview descriptions are composed of key words and really short descriptions only, so language modeling might not be required, but lets see if thats true for the entire dataset. \n",
    "<br><br>"
   ]
  },
  {
   "cell_type": "code",
   "execution_count": 5,
   "metadata": {},
   "outputs": [
    {
     "data": {
      "image/png": "[encoded data removed]",
      "text/plain": [
       "<Figure size 432x288 with 1 Axes>"
      ]
     },
     "metadata": {
      "needs_background": "light"
     },
     "output_type": "display_data"
    }
   ],
   "source": [
    "train_df['sentence_lenght'] = train_df['description'].apply(lambda x: len(x.split(' ')))\n",
    "_ = plt.hist(train_df['sentence_lenght'])"
   ]
  },
  {
   "cell_type": "raw",
   "metadata": {},
   "source": [
    "Here we can see that although most of the descriptions are really short, they can go upto lenght of 33. Therefore, language modeling might give better results. "
   ]
  },
  {
   "cell_type": "code",
   "execution_count": 6,
   "metadata": {},
   "outputs": [
    {
     "data": {
      "image/png": "[encoded data removed]",
      "text/plain": [
       "<Figure size 432x288 with 1 Axes>"
      ]
     },
     "metadata": {
      "needs_background": "light"
     },
     "output_type": "display_data"
    }
   ],
   "source": [
    "_ = plt.hist(train_df['category'].astype('category').cat.codes)"
   ]
  },
  {
   "cell_type": "markdown",
   "metadata": {},
   "source": [
    "The classes are imbalanced, so if the class wise precision scores are not good enough, we will have to deal with it seperatly. "
   ]
  },
  {
   "cell_type": "markdown",
   "metadata": {},
   "source": [
    "<br><h3>2) Data Preprocessing</h3>\n",
    "We will look to transform the string data to a machine readable format and also look to do some feature extraction which will help the model during the classification task \n",
    "<br><br>"
   ]
  },
  {
   "cell_type": "markdown",
   "metadata": {},
   "source": [
    "From the problem description, we know the 8 crime categories we need the classify the given text into. We also have a few examples for each categories, using which we can come up with an important key word dictionary which we will be used for keyword matching with the text description and pass as additional features to our model. \n",
    "<br><br>"
   ]
  },
  {
   "cell_type": "code",
   "execution_count": 7,
   "metadata": {},
   "outputs": [],
   "source": [
    "keyword_dict = {'Property Crime': ['arson', 'burglar', 'break', 'enter', 'destruct', 'theft', 'car', 'vehicle', 'motor', 'steal', 'property', 'curfew', 'loitering', 'trespass'],\n",
    "               'Violent Crime': ['assault', 'homicide', 'rob', 'murder'],\n",
    "               'Substance-related Crime': ['drug', 'narcotic', 'influence', 'drunk', 'liquor', 'substance'],\n",
    "               'Sex Crime': ['pornography', 'obscene', 'prostitute', 'sex', 'peep', 'human-trafficking'],\n",
    "               'Personal Crime (nonviolent)': ['kidnap', 'abduct', 'runaway'],\n",
    "                'Financial Crime': ['bribery', 'counterfeiting', 'forgery', 'embezzlement', 'extrotion', 'blackmail', 'fraud'],\n",
    "               'No Crime Committed': [],\n",
    "               'Other': ['gambling', 'weapon', 'trafic']}\n",
    "encoding_dict = {'Property Crime': 0,\n",
    "               'Violent Crime': 1,\n",
    "               'Substance-related Crime': 2,\n",
    "               'Sex Crime': 3,\n",
    "               'Personal Crime (nonviolent)': 4,\n",
    "                'Financial Crime': 5,\n",
    "               'No Crime Committed': 6,\n",
    "               'Other': 7,\n",
    "                'Not Classified': -1}\n",
    "inc_encoding_dict = {}\n",
    "for d in encoding_dict:\n",
    "    inc_encoding_dict[encoding_dict[d]] = d"
   ]
  },
  {
   "cell_type": "markdown",
   "metadata": {},
   "source": [
    "Even though all keywords are in thier base form, we can pass all of them through the lematizer to make sure since all key word matching will take place in base form. \n",
    "For example, 'rock' and 'rocks' are the same word, but will not match on comparison and so we need compare both of them in base form. "
   ]
  },
  {
   "cell_type": "code",
   "execution_count": 8,
   "metadata": {},
   "outputs": [],
   "source": [
    "import spacy\n",
    "\n",
    "nlp = spacy.load('en_core_web_sm')\n",
    "inv_keyword_dict = {}\n",
    "\n",
    "for category in keyword_dict:\n",
    "    for n, keyword in enumerate(keyword_dict[category]):\n",
    "        keyword_dict[category][n] = nlp(keyword)[0].lemma_\n",
    "        inv_keyword_dict[keyword] = category"
   ]
  },
  {
   "cell_type": "code",
   "execution_count": 9,
   "metadata": {},
   "outputs": [
    {
     "data": {
      "text/plain": [
       "array(['Property Crime', 'Violent Crime', 'Other',\n",
       "       'Substance-related Crime', 'Sex Crime', 'No Crime Committed',\n",
       "       'Financial Crime', 'Personal Crime (nonviolent)'], dtype=object)"
      ]
     },
     "execution_count": 9,
     "metadata": {},
     "output_type": "execute_result"
    }
   ],
   "source": [
    "train_df['category'].unique()"
   ]
  },
  {
   "cell_type": "code",
   "execution_count": 10,
   "metadata": {},
   "outputs": [
    {
     "name": "stderr",
     "output_type": "stream",
     "text": [
      "100%|██████████| 567540/567540 [36:22<00:00, 260.07it/s] \n"
     ]
    },
    {
     "data": {
      "text/html": [
       "<div>\n",
       "<style scoped>\n",
       "    .dataframe tbody tr th:only-of-type {\n",
       "        vertical-align: middle;\n",
       "    }\n",
       "\n",
       "    .dataframe tbody tr th {\n",
       "        vertical-align: top;\n",
       "    }\n",
       "\n",
       "    .dataframe thead th {\n",
       "        text-align: right;\n",
       "    }\n",
       "</style>\n",
       "<table border=\"1\" class=\"dataframe\">\n",
       "  <thead>\n",
       "    <tr style=\"text-align: right;\">\n",
       "      <th></th>\n",
       "      <th>description</th>\n",
       "      <th>category</th>\n",
       "      <th>sentence_lenght</th>\n",
       "      <th>word_vec</th>\n",
       "      <th>features</th>\n",
       "    </tr>\n",
       "  </thead>\n",
       "  <tbody>\n",
       "    <tr>\n",
       "      <th>0</th>\n",
       "      <td>LARCENY/THEFT</td>\n",
       "      <td>0</td>\n",
       "      <td>1</td>\n",
       "      <td>[0, 1, 2]</td>\n",
       "      <td>[1, 0, 0, 0, 0, 0, 0, 0]</td>\n",
       "    </tr>\n",
       "    <tr>\n",
       "      <th>1</th>\n",
       "      <td>BMV</td>\n",
       "      <td>0</td>\n",
       "      <td>1</td>\n",
       "      <td>[3]</td>\n",
       "      <td>[0, 0, 0, 0, 0, 0, 0, 0]</td>\n",
       "    </tr>\n",
       "    <tr>\n",
       "      <th>2</th>\n",
       "      <td>LARCENY/THEFT</td>\n",
       "      <td>0</td>\n",
       "      <td>1</td>\n",
       "      <td>[0, 1, 2]</td>\n",
       "      <td>[1, 0, 0, 0, 0, 0, 0, 0]</td>\n",
       "    </tr>\n",
       "    <tr>\n",
       "      <th>3</th>\n",
       "      <td>Petit Larceny</td>\n",
       "      <td>0</td>\n",
       "      <td>2</td>\n",
       "      <td>[4, 0]</td>\n",
       "      <td>[0, 0, 0, 0, 0, 0, 0, 0]</td>\n",
       "    </tr>\n",
       "    <tr>\n",
       "      <th>4</th>\n",
       "      <td>AUTO THEFT/PASSENGER VEHICLE</td>\n",
       "      <td>0</td>\n",
       "      <td>3</td>\n",
       "      <td>[5, 2, 1, 6, 7]</td>\n",
       "      <td>[2, 0, 0, 0, 0, 0, 0, 0]</td>\n",
       "    </tr>\n",
       "    <tr>\n",
       "      <th>...</th>\n",
       "      <td>...</td>\n",
       "      <td>...</td>\n",
       "      <td>...</td>\n",
       "      <td>...</td>\n",
       "      <td>...</td>\n",
       "    </tr>\n",
       "    <tr>\n",
       "      <th>567535</th>\n",
       "      <td>Theft, From Unlocked Vehicle, $200-$950</td>\n",
       "      <td>0</td>\n",
       "      <td>5</td>\n",
       "      <td>[2, 37, 21, 333, 7, 37, 61, 280]</td>\n",
       "      <td>[2, 0, 0, 0, 0, 0, 0, 0]</td>\n",
       "    </tr>\n",
       "    <tr>\n",
       "      <th>567536</th>\n",
       "      <td>Petit Larceny</td>\n",
       "      <td>0</td>\n",
       "      <td>2</td>\n",
       "      <td>[4, 0]</td>\n",
       "      <td>[0, 0, 0, 0, 0, 0, 0, 0]</td>\n",
       "    </tr>\n",
       "    <tr>\n",
       "      <th>567537</th>\n",
       "      <td>UUV</td>\n",
       "      <td>0</td>\n",
       "      <td>1</td>\n",
       "      <td>[50]</td>\n",
       "      <td>[0, 0, 0, 0, 0, 0, 0, 0]</td>\n",
       "    </tr>\n",
       "    <tr>\n",
       "      <th>567538</th>\n",
       "      <td>LARCENY/THEFT</td>\n",
       "      <td>0</td>\n",
       "      <td>1</td>\n",
       "      <td>[0, 1, 2]</td>\n",
       "      <td>[1, 0, 0, 0, 0, 0, 0, 0]</td>\n",
       "    </tr>\n",
       "    <tr>\n",
       "      <th>567539</th>\n",
       "      <td>Burglary, Non-residential, Forcible Entry</td>\n",
       "      <td>0</td>\n",
       "      <td>4</td>\n",
       "      <td>[23, 37, 248, 13, 666, 37, 120, 31]</td>\n",
       "      <td>[0, 0, 0, 0, 0, 0, 0, 0]</td>\n",
       "    </tr>\n",
       "  </tbody>\n",
       "</table>\n",
       "<p>567540 rows × 5 columns</p>\n",
       "</div>"
      ],
      "text/plain": [
       "                                      description category  sentence_lenght  \\\n",
       "0                                   LARCENY/THEFT        0                1   \n",
       "1                                             BMV        0                1   \n",
       "2                                   LARCENY/THEFT        0                1   \n",
       "3                                   Petit Larceny        0                2   \n",
       "4                    AUTO THEFT/PASSENGER VEHICLE        0                3   \n",
       "...                                           ...      ...              ...   \n",
       "567535    Theft, From Unlocked Vehicle, $200-$950        0                5   \n",
       "567536                              Petit Larceny        0                2   \n",
       "567537                                        UUV        0                1   \n",
       "567538                              LARCENY/THEFT        0                1   \n",
       "567539  Burglary, Non-residential, Forcible Entry        0                4   \n",
       "\n",
       "                                   word_vec                  features  \n",
       "0                                 [0, 1, 2]  [1, 0, 0, 0, 0, 0, 0, 0]  \n",
       "1                                       [3]  [0, 0, 0, 0, 0, 0, 0, 0]  \n",
       "2                                 [0, 1, 2]  [1, 0, 0, 0, 0, 0, 0, 0]  \n",
       "3                                    [4, 0]  [0, 0, 0, 0, 0, 0, 0, 0]  \n",
       "4                           [5, 2, 1, 6, 7]  [2, 0, 0, 0, 0, 0, 0, 0]  \n",
       "...                                     ...                       ...  \n",
       "567535     [2, 37, 21, 333, 7, 37, 61, 280]  [2, 0, 0, 0, 0, 0, 0, 0]  \n",
       "567536                               [4, 0]  [0, 0, 0, 0, 0, 0, 0, 0]  \n",
       "567537                                 [50]  [0, 0, 0, 0, 0, 0, 0, 0]  \n",
       "567538                            [0, 1, 2]  [1, 0, 0, 0, 0, 0, 0, 0]  \n",
       "567539  [23, 37, 248, 13, 666, 37, 120, 31]  [0, 0, 0, 0, 0, 0, 0, 0]  \n",
       "\n",
       "[567540 rows x 5 columns]"
      ]
     },
     "execution_count": 10,
     "metadata": {},
     "output_type": "execute_result"
    }
   ],
   "source": [
    "train_df['word_vec'] = train_df['description'].astype(object)\n",
    "train_df['features'] = train_df['description'].astype(object)\n",
    "word_dict = {}\n",
    "word_dict_inv = {}\n",
    "i = 0\n",
    "for idx, row in tqdm(train_df.iterrows(), total=train_df.shape[0]):\n",
    "    sentence = row['description']\n",
    "    keywords_matched = {'Property Crime': 0,\n",
    "                       'Violent Crime': 0,\n",
    "                       'Substance-related Crime': 0,\n",
    "                       'Sex Crime': 0,\n",
    "                       'Personal Crime (nonviolent)': 0,\n",
    "                        'Financial Crime': 0,\n",
    "                       'No Crime Committed': 0,\n",
    "                       'Other': 0}\n",
    "    sentence = nlp(sentence)\n",
    "    new_sentence = []\n",
    "    for n, word in enumerate(sentence):\n",
    "        word_lower = word.lemma_.lower()\n",
    "        if word_lower not in word_dict:\n",
    "            word_dict[word_lower] = i\n",
    "            word_dict_inv[i] = word_lower\n",
    "            i += 1\n",
    "        new_sentence.append(word_dict[word_lower])\n",
    "        if word_lower in inv_keyword_dict:\n",
    "            keywords_matched[inv_keyword_dict[word_lower]] += 1\n",
    "    train_df.at[idx, 'word_vec'] = new_sentence\n",
    "    train_df.at[idx, 'features'] = list(keywords_matched.values())\n",
    "    train_df.at[idx, 'category'] = encoding_dict[train_df.at[idx, 'category']]\n",
    "train_df"
   ]
  },
  {
   "cell_type": "markdown",
   "metadata": {},
   "source": [
    "Now we have our vocab from our train set. We need to use the same vocab to create word vec of our test set"
   ]
  },
  {
   "cell_type": "code",
   "execution_count": 18,
   "metadata": {},
   "outputs": [],
   "source": [
    "word_dict['<UNK>'] = i\n",
    "word_dict['<PAD>'] = i+1\n",
    "word_dict_inv[i] = '<UNK>'\n",
    "word_dict_inv[i+1] = '<PAD>'"
   ]
  },
  {
   "cell_type": "code",
   "execution_count": 12,
   "metadata": {},
   "outputs": [
    {
     "name": "stderr",
     "output_type": "stream",
     "text": [
      "100%|██████████| 500000/500000 [27:58<00:00, 297.81it/s] \n"
     ]
    },
    {
     "data": {
      "text/html": [
       "<div>\n",
       "<style scoped>\n",
       "    .dataframe tbody tr th:only-of-type {\n",
       "        vertical-align: middle;\n",
       "    }\n",
       "\n",
       "    .dataframe tbody tr th {\n",
       "        vertical-align: top;\n",
       "    }\n",
       "\n",
       "    .dataframe thead th {\n",
       "        text-align: right;\n",
       "    }\n",
       "</style>\n",
       "<table border=\"1\" class=\"dataframe\">\n",
       "  <thead>\n",
       "    <tr style=\"text-align: right;\">\n",
       "      <th></th>\n",
       "      <th>description</th>\n",
       "      <th>word_vec</th>\n",
       "      <th>features</th>\n",
       "    </tr>\n",
       "  </thead>\n",
       "  <tbody>\n",
       "    <tr>\n",
       "      <th>0</th>\n",
       "      <td>FRAUD - ALL OTHER</td>\n",
       "      <td>[110, 13, 186, 35]</td>\n",
       "      <td>[0, 0, 0, 0, 0, 1, 0, 0]</td>\n",
       "    </tr>\n",
       "    <tr>\n",
       "      <th>1</th>\n",
       "      <td>6G</td>\n",
       "      <td>[1661, 145]</td>\n",
       "      <td>[0, 0, 0, 0, 0, 0, 0, 0]</td>\n",
       "    </tr>\n",
       "    <tr>\n",
       "      <th>2</th>\n",
       "      <td>PETIT FROM BUILD..</td>\n",
       "      <td>[4, 21, 835, 2300]</td>\n",
       "      <td>[0, 0, 0, 0, 0, 0, 0, 0]</td>\n",
       "    </tr>\n",
       "    <tr>\n",
       "      <th>3</th>\n",
       "      <td>BURGLARY CONVEYANCE</td>\n",
       "      <td>[23, 2300]</td>\n",
       "      <td>[0, 0, 0, 0, 0, 0, 0, 0]</td>\n",
       "    </tr>\n",
       "    <tr>\n",
       "      <th>4</th>\n",
       "      <td>INFORMATION</td>\n",
       "      <td>[332]</td>\n",
       "      <td>[0, 0, 0, 0, 0, 0, 0, 0]</td>\n",
       "    </tr>\n",
       "    <tr>\n",
       "      <th>...</th>\n",
       "      <td>...</td>\n",
       "      <td>...</td>\n",
       "      <td>...</td>\n",
       "    </tr>\n",
       "    <tr>\n",
       "      <th>499995</th>\n",
       "      <td>PETIT OF BICYCLE</td>\n",
       "      <td>[4, 10, 436]</td>\n",
       "      <td>[0, 0, 0, 0, 0, 0, 0, 0]</td>\n",
       "    </tr>\n",
       "    <tr>\n",
       "      <th>499996</th>\n",
       "      <td>PETIT OF VEHICLE..</td>\n",
       "      <td>[4, 10, 7, 2300]</td>\n",
       "      <td>[1, 0, 0, 0, 0, 0, 0, 0]</td>\n",
       "    </tr>\n",
       "    <tr>\n",
       "      <th>499997</th>\n",
       "      <td>INFORMATION</td>\n",
       "      <td>[332]</td>\n",
       "      <td>[0, 0, 0, 0, 0, 0, 0, 0]</td>\n",
       "    </tr>\n",
       "    <tr>\n",
       "      <th>499998</th>\n",
       "      <td>ASSAULT 3</td>\n",
       "      <td>[15, 481]</td>\n",
       "      <td>[0, 1, 0, 0, 0, 0, 0, 0]</td>\n",
       "    </tr>\n",
       "    <tr>\n",
       "      <th>499999</th>\n",
       "      <td>5B</td>\n",
       "      <td>[2300]</td>\n",
       "      <td>[0, 0, 0, 0, 0, 0, 0, 0]</td>\n",
       "    </tr>\n",
       "  </tbody>\n",
       "</table>\n",
       "<p>500000 rows × 3 columns</p>\n",
       "</div>"
      ],
      "text/plain": [
       "                description            word_vec                  features\n",
       "0         FRAUD - ALL OTHER  [110, 13, 186, 35]  [0, 0, 0, 0, 0, 1, 0, 0]\n",
       "1                        6G         [1661, 145]  [0, 0, 0, 0, 0, 0, 0, 0]\n",
       "2        PETIT FROM BUILD..  [4, 21, 835, 2300]  [0, 0, 0, 0, 0, 0, 0, 0]\n",
       "3       BURGLARY CONVEYANCE          [23, 2300]  [0, 0, 0, 0, 0, 0, 0, 0]\n",
       "4               INFORMATION               [332]  [0, 0, 0, 0, 0, 0, 0, 0]\n",
       "...                     ...                 ...                       ...\n",
       "499995     PETIT OF BICYCLE        [4, 10, 436]  [0, 0, 0, 0, 0, 0, 0, 0]\n",
       "499996   PETIT OF VEHICLE..    [4, 10, 7, 2300]  [1, 0, 0, 0, 0, 0, 0, 0]\n",
       "499997          INFORMATION               [332]  [0, 0, 0, 0, 0, 0, 0, 0]\n",
       "499998            ASSAULT 3           [15, 481]  [0, 1, 0, 0, 0, 0, 0, 0]\n",
       "499999                   5B              [2300]  [0, 0, 0, 0, 0, 0, 0, 0]\n",
       "\n",
       "[500000 rows x 3 columns]"
      ]
     },
     "execution_count": 12,
     "metadata": {},
     "output_type": "execute_result"
    }
   ],
   "source": [
    "test_df['word_vec'] = test_df['description'].astype(object)\n",
    "test_df['features'] = test_df['description'].astype(object)\n",
    "for idx, row in tqdm(test_df.iterrows(), total=test_df.shape[0]):\n",
    "    sentence = row['description']\n",
    "    keywords_matched = {'Property Crime': 0, \n",
    "                    'Violent Crime': 0,\n",
    "                    'Substance-related Crime': 0, \n",
    "                    'Sex Crime': 0, \n",
    "                    'Personal Crime (nonviolent)': 0, \n",
    "                    'Financial Crime': 0,\n",
    "                    'No Crime Committed': 0, \n",
    "                    'Other': 0}\n",
    "    sentence = nlp(sentence)\n",
    "    new_sentence = []\n",
    "    for n, word in enumerate(sentence):\n",
    "        word_lower = word.lemma_.lower()\n",
    "        if word_lower in word_dict:\n",
    "            new_sentence.append(word_dict[word_lower])\n",
    "        else:\n",
    "            new_sentence.append(word_dict['<UNK>'])\n",
    "        if word_lower in inv_keyword_dict:\n",
    "            keywords_matched[inv_keyword_dict[word_lower]] += 1\n",
    "    test_df.at[idx, 'word_vec'] = new_sentence\n",
    "    test_df.at[idx, 'features'] = list(keywords_matched.values())\n",
    "test_df"
   ]
  },
  {
   "cell_type": "code",
   "execution_count": 13,
   "metadata": {},
   "outputs": [
    {
     "name": "stdout",
     "output_type": "stream",
     "text": [
      "torch.Size([8, 44]) torch.Size([8, 8]) torch.Size([8])\n"
     ]
    }
   ],
   "source": [
    "from torch.utils.data import Dataset, DataLoader\n",
    "\n",
    "class CrimeDiscriptions(Dataset):\n",
    "    def __init__(self, df, word_dict, test=False):\n",
    "        self.data = df['word_vec']\n",
    "        self.features = df['features']\n",
    "        sent_len = self.data.apply(len)\n",
    "        self.pad_length = sent_len.max()\n",
    "        self.word_dict = word_dict\n",
    "        self.test = test\n",
    "        if not test:\n",
    "            self.lables = df['category']\n",
    "    \n",
    "    def __len__(self):\n",
    "        return len(self.data)\n",
    "    \n",
    "    def __getitem__(self, idx):\n",
    "        data_pad = self.data.iloc[idx]\n",
    "        data_pad += [self.word_dict['<PAD>']] * (self.pad_length - len(data_pad))\n",
    "        out = [torch.as_tensor(data_pad).float(), torch.as_tensor(self.features.iloc[idx]).float()]\n",
    "        if not self.test:\n",
    "            out.append(torch.as_tensor(self.lables.iloc[idx]).float())\n",
    "        return out\n",
    "\n",
    "transformed_dataset = CrimeDiscriptions(train_df, word_dict)\n",
    "dataloader = DataLoader(transformed_dataset, batch_size=8, shuffle=True)\n",
    "for data, features, labels in dataloader:\n",
    "    print(data.shape, features.shape, labels.shape)\n",
    "    break"
   ]
  },
  {
   "cell_type": "markdown",
   "metadata": {},
   "source": [
    "With all the data transformed and ready, we can move to our model.\n",
    "\n",
    "<br><br>\n",
    "<h3>3) Model</h3>\n",
    "<br><br>"
   ]
  },
  {
   "cell_type": "code",
   "execution_count": 19,
   "metadata": {},
   "outputs": [],
   "source": [
    "# hyperparameters\n",
    "\n",
    "epochs = 25\n",
    "lr = 1e-3\n",
    "batch_size = 32\n",
    "dropout_prob = 0.5\n",
    "train_tvalid_split_ratio = 0.8\n",
    "num_labels = 8\n",
    "embedding_dim = 64\n",
    "hidden_size = 32\n",
    "device = torch.device('cuda' if torch.cuda.is_available() else 'cpu')"
   ]
  },
  {
   "cell_type": "code",
   "execution_count": 20,
   "metadata": {},
   "outputs": [],
   "source": [
    "import torch.nn as nn\n",
    "from transformers import BertModel\n",
    "\n",
    "class LSTM(nn.Module):\n",
    "    def __init__(self, vocab_size, embedding_dim, dropout_prob, hidden_size=8, num_labels=8):\n",
    "        super(LSTM, self).__init__()\n",
    "        self.num_labels = num_labels\n",
    "        self.embeddings = nn.Embedding(vocab_size, embedding_dim)\n",
    "        self.lstm = nn.LSTM(embedding_dim, hidden_size, dropout=dropout_prob, batch_first=True, bidirectional=True)\n",
    "        self.fc = nn.Linear(hidden_size + num_labels, num_labels)\n",
    "    def forward(self, x, features):\n",
    "        x = self.embeddings(x)\n",
    "        out, (ht, ct) = self.lstm(x)\n",
    "        out = torch.cat((ht[-1], features), 1)\n",
    "        out = self.fc(out)\n",
    "        return out"
   ]
  },
  {
   "cell_type": "code",
   "execution_count": 21,
   "metadata": {},
   "outputs": [],
   "source": [
    "model = LSTM(len(word_dict), embedding_dim, dropout_prob, hidden_size, num_labels).to(device)\n",
    "\n",
    "criterion = nn.CrossEntropyLoss()\n",
    "optimizer = torch.optim.Adam(model.parameters(), lr=lr)"
   ]
  },
  {
   "cell_type": "code",
   "execution_count": 22,
   "metadata": {},
   "outputs": [],
   "source": [
    "transformed_dataset = CrimeDiscriptions(train_df, word_dict)\n",
    "train_size = int(len(transformed_dataset) * train_tvalid_split_ratio)\n",
    "test_size = len(transformed_dataset) - train_size\n",
    "train_set, valid_set = torch.utils.data.random_split(transformed_dataset, [train_size, test_size])\n",
    "train_loader = DataLoader(train_set, batch_size=batch_size, shuffle=True)\n",
    "valid_loader = DataLoader(valid_set, batch_size=batch_size, shuffle=True)"
   ]
  },
  {
   "cell_type": "code",
   "execution_count": 23,
   "metadata": {},
   "outputs": [],
   "source": [
    "# Helper functin to remove predictions with low confidence \n",
    "def remove_low_conf(y_true, y_pred, threshold=0.65):\n",
    "    y_pred = nn.functional.softmax(y_pred)\n",
    "    y_pred, y_pred_class = y_pred.max(1)\n",
    "    low_conf = y_pred < threshold\n",
    "    y_pred_class[low_conf] = -1\n",
    "    y_true = y_true.clone()\n",
    "    y_true[low_conf] = -1\n",
    "    return y_true, y_pred_class"
   ]
  },
  {
   "cell_type": "code",
   "execution_count": 24,
   "metadata": {
    "scrolled": true
   },
   "outputs": [
    {
     "name": "stderr",
     "output_type": "stream",
     "text": [
      "<ipython-input-23-166be8afa6b6>:3: UserWarning: Implicit dimension choice for softmax has been deprecated. Change the call to include dim=X as an argument.\n",
      "  y_pred = nn.functional.softmax(y_pred)\n"
     ]
    },
    {
     "name": "stdout",
     "output_type": "stream",
     "text": [
      "Epoch: 0\tTrain loss: 345.417\tTrain Acc: 0.999\tTrain unclassified: 0.012\tValid loss: 14.455\tValid Acc: 1.000\tValid unclassified: 0.004\n",
      "Epoch: 1\tTrain loss: 46.710\tTrain Acc: 0.999\tTrain unclassified: 0.002\tValid loss: 10.844\tValid Acc: 0.999\tValid unclassified: 0.000\n",
      "Epoch: 2\tTrain loss: 35.904\tTrain Acc: 1.000\tTrain unclassified: 0.002\tValid loss: 11.021\tValid Acc: 1.000\tValid unclassified: 0.003\n",
      "Epoch: 3\tTrain loss: 33.208\tTrain Acc: 1.000\tTrain unclassified: 0.002\tValid loss: 10.373\tValid Acc: 1.000\tValid unclassified: 0.003\n",
      "Epoch: 4\tTrain loss: 31.448\tTrain Acc: 1.000\tTrain unclassified: 0.002\tValid loss: 10.476\tValid Acc: 1.000\tValid unclassified: 0.003\n",
      "Epoch: 5\tTrain loss: 30.733\tTrain Acc: 1.000\tTrain unclassified: 0.002\tValid loss: 9.930\tValid Acc: 1.000\tValid unclassified: 0.003\n"
     ]
    },
    {
     "ename": "KeyboardInterrupt",
     "evalue": "",
     "output_type": "error",
     "traceback": [
      "\u001b[0;31m---------------------------------------------------------------------------\u001b[0m",
      "\u001b[0;31mKeyboardInterrupt\u001b[0m                         Traceback (most recent call last)",
      "\u001b[0;32m<ipython-input-24-21e40169e8ff>\u001b[0m in \u001b[0;36m<module>\u001b[0;34m\u001b[0m\n\u001b[1;32m      6\u001b[0m         \u001b[0mout\u001b[0m \u001b[0;34m=\u001b[0m \u001b[0mmodel\u001b[0m\u001b[0;34m(\u001b[0m\u001b[0mdata\u001b[0m\u001b[0;34m.\u001b[0m\u001b[0mlong\u001b[0m\u001b[0;34m(\u001b[0m\u001b[0;34m)\u001b[0m\u001b[0;34m.\u001b[0m\u001b[0mto\u001b[0m\u001b[0;34m(\u001b[0m\u001b[0mdevice\u001b[0m\u001b[0;34m)\u001b[0m\u001b[0;34m,\u001b[0m \u001b[0mfeatures\u001b[0m\u001b[0;34m.\u001b[0m\u001b[0mto\u001b[0m\u001b[0;34m(\u001b[0m\u001b[0mdevice\u001b[0m\u001b[0;34m)\u001b[0m\u001b[0;34m)\u001b[0m\u001b[0;34m\u001b[0m\u001b[0;34m\u001b[0m\u001b[0m\n\u001b[1;32m      7\u001b[0m         \u001b[0mloss\u001b[0m \u001b[0;34m=\u001b[0m \u001b[0mcriterion\u001b[0m\u001b[0;34m(\u001b[0m\u001b[0mout\u001b[0m\u001b[0;34m.\u001b[0m\u001b[0mcpu\u001b[0m\u001b[0;34m(\u001b[0m\u001b[0;34m)\u001b[0m\u001b[0;34m,\u001b[0m \u001b[0mlabels\u001b[0m\u001b[0;34m.\u001b[0m\u001b[0mlong\u001b[0m\u001b[0;34m(\u001b[0m\u001b[0;34m)\u001b[0m\u001b[0;34m)\u001b[0m\u001b[0;34m\u001b[0m\u001b[0;34m\u001b[0m\u001b[0m\n\u001b[0;32m----> 8\u001b[0;31m         \u001b[0mloss\u001b[0m\u001b[0;34m.\u001b[0m\u001b[0mbackward\u001b[0m\u001b[0;34m(\u001b[0m\u001b[0;34m)\u001b[0m\u001b[0;34m\u001b[0m\u001b[0;34m\u001b[0m\u001b[0m\n\u001b[0m\u001b[1;32m      9\u001b[0m         \u001b[0moptimizer\u001b[0m\u001b[0;34m.\u001b[0m\u001b[0mstep\u001b[0m\u001b[0;34m(\u001b[0m\u001b[0;34m)\u001b[0m\u001b[0;34m\u001b[0m\u001b[0;34m\u001b[0m\u001b[0m\n\u001b[1;32m     10\u001b[0m         \u001b[0mepoch_loss\u001b[0m \u001b[0;34m+=\u001b[0m \u001b[0mloss\u001b[0m\u001b[0;34m.\u001b[0m\u001b[0mitem\u001b[0m\u001b[0;34m(\u001b[0m\u001b[0;34m)\u001b[0m\u001b[0;34m\u001b[0m\u001b[0;34m\u001b[0m\u001b[0m\n",
      "\u001b[0;32m~/opt/anaconda3/envs/HiGeorge/lib/python3.9/site-packages/torch/tensor.py\u001b[0m in \u001b[0;36mbackward\u001b[0;34m(self, gradient, retain_graph, create_graph, inputs)\u001b[0m\n\u001b[1;32m    243\u001b[0m                 \u001b[0mcreate_graph\u001b[0m\u001b[0;34m=\u001b[0m\u001b[0mcreate_graph\u001b[0m\u001b[0;34m,\u001b[0m\u001b[0;34m\u001b[0m\u001b[0;34m\u001b[0m\u001b[0m\n\u001b[1;32m    244\u001b[0m                 inputs=inputs)\n\u001b[0;32m--> 245\u001b[0;31m         \u001b[0mtorch\u001b[0m\u001b[0;34m.\u001b[0m\u001b[0mautograd\u001b[0m\u001b[0;34m.\u001b[0m\u001b[0mbackward\u001b[0m\u001b[0;34m(\u001b[0m\u001b[0mself\u001b[0m\u001b[0;34m,\u001b[0m \u001b[0mgradient\u001b[0m\u001b[0;34m,\u001b[0m \u001b[0mretain_graph\u001b[0m\u001b[0;34m,\u001b[0m \u001b[0mcreate_graph\u001b[0m\u001b[0;34m,\u001b[0m \u001b[0minputs\u001b[0m\u001b[0;34m=\u001b[0m\u001b[0minputs\u001b[0m\u001b[0;34m)\u001b[0m\u001b[0;34m\u001b[0m\u001b[0;34m\u001b[0m\u001b[0m\n\u001b[0m\u001b[1;32m    246\u001b[0m \u001b[0;34m\u001b[0m\u001b[0m\n\u001b[1;32m    247\u001b[0m     \u001b[0;32mdef\u001b[0m \u001b[0mregister_hook\u001b[0m\u001b[0;34m(\u001b[0m\u001b[0mself\u001b[0m\u001b[0;34m,\u001b[0m \u001b[0mhook\u001b[0m\u001b[0;34m)\u001b[0m\u001b[0;34m:\u001b[0m\u001b[0;34m\u001b[0m\u001b[0;34m\u001b[0m\u001b[0m\n",
      "\u001b[0;32m~/opt/anaconda3/envs/HiGeorge/lib/python3.9/site-packages/torch/autograd/__init__.py\u001b[0m in \u001b[0;36mbackward\u001b[0;34m(tensors, grad_tensors, retain_graph, create_graph, grad_variables, inputs)\u001b[0m\n\u001b[1;32m    143\u001b[0m         \u001b[0mretain_graph\u001b[0m \u001b[0;34m=\u001b[0m \u001b[0mcreate_graph\u001b[0m\u001b[0;34m\u001b[0m\u001b[0;34m\u001b[0m\u001b[0m\n\u001b[1;32m    144\u001b[0m \u001b[0;34m\u001b[0m\u001b[0m\n\u001b[0;32m--> 145\u001b[0;31m     Variable._execution_engine.run_backward(\n\u001b[0m\u001b[1;32m    146\u001b[0m         \u001b[0mtensors\u001b[0m\u001b[0;34m,\u001b[0m \u001b[0mgrad_tensors_\u001b[0m\u001b[0;34m,\u001b[0m \u001b[0mretain_graph\u001b[0m\u001b[0;34m,\u001b[0m \u001b[0mcreate_graph\u001b[0m\u001b[0;34m,\u001b[0m \u001b[0minputs\u001b[0m\u001b[0;34m,\u001b[0m\u001b[0;34m\u001b[0m\u001b[0;34m\u001b[0m\u001b[0m\n\u001b[1;32m    147\u001b[0m         allow_unreachable=True, accumulate_grad=True)  # allow_unreachable flag\n",
      "\u001b[0;31mKeyboardInterrupt\u001b[0m: "
     ]
    }
   ],
   "source": [
    "for epoch in range(epochs):\n",
    "    epoch_loss = 0\n",
    "    train_correct, train_total, train_low_conf = 0, 0, 0\n",
    "    for data, features, labels in train_loader:\n",
    "        optimizer.zero_grad()\n",
    "        out = model(data.long().to(device), features.to(device))\n",
    "        loss = criterion(out.cpu(), labels.long())\n",
    "        loss.backward()\n",
    "        optimizer.step()\n",
    "        epoch_loss += loss.item()\n",
    "        labels, out = remove_low_conf(labels, out)\n",
    "        low_conf = (labels == -1).sum()\n",
    "        train_correct += (labels == out).sum() - low_conf\n",
    "        train_total += labels.shape[0] - low_conf\n",
    "        train_low_conf += low_conf\n",
    "    valid_loss = 0\n",
    "    valid_correct, valid_total, valid_low_conf = 0, 0, 0\n",
    "    with torch.no_grad():\n",
    "        for data, features, labels in valid_loader:\n",
    "            optimizer.zero_grad()\n",
    "            out = model(data.long().to(device), features.to(device))\n",
    "            loss = criterion(out.cpu(), labels.long())\n",
    "            valid_loss += loss.item()\n",
    "            labels, out = remove_low_conf(labels, out)\n",
    "            low_conf = (labels == -1).sum()\n",
    "            valid_correct += (labels == out).sum() - low_conf\n",
    "            valid_total += labels.shape[0] - low_conf\n",
    "            valid_low_conf += low_conf\n",
    "    train_acc = train_correct/(train_total+1e-6)\n",
    "    valid_acc = valid_correct/(valid_total+1e-6)\n",
    "    train_low_conf = train_low_conf/(train_total+train_low_conf)\n",
    "    valid_low_conf = valid_low_conf/(valid_total+valid_low_conf)\n",
    "    print(\"Epoch: {}\\tTrain loss: {:.3f}\\tTrain Acc: {:.3f}\\tTrain unclassified: {:.3f}\\tValid loss: {:.3f}\\tValid Acc: {:.3f}\\tValid unclassified: {:.3f}\".format(\n",
    "        epoch, epoch_loss, train_acc, train_low_conf, valid_loss, valid_acc, valid_low_conf))"
   ]
  },
  {
   "cell_type": "markdown",
   "metadata": {},
   "source": [
    "Now that we have our model trained, lets evaluate some metrics on our validation set. "
   ]
  },
  {
   "cell_type": "code",
   "execution_count": 25,
   "metadata": {},
   "outputs": [
    {
     "name": "stderr",
     "output_type": "stream",
     "text": [
      "<ipython-input-23-166be8afa6b6>:3: UserWarning: Implicit dimension choice for softmax has been deprecated. Change the call to include dim=X as an argument.\n",
      "  y_pred = nn.functional.softmax(y_pred)\n"
     ]
    },
    {
     "name": "stdout",
     "output_type": "stream",
     "text": [
      "Precision:                precision    recall  f1-score   support\n",
      "\n",
      "        -1.0       1.00      1.00      1.00       344\n",
      "         0.0       1.00      1.00      1.00     77808\n",
      "         1.0       1.00      1.00      1.00     23730\n",
      "         2.0       1.00      1.00      1.00      1278\n",
      "         3.0       1.00      1.00      1.00      1082\n",
      "         4.0       0.99      0.99      0.99       317\n",
      "         5.0       1.00      0.99      1.00       769\n",
      "         6.0       1.00      1.00      1.00      1075\n",
      "         7.0       1.00      1.00      1.00      7105\n",
      "\n",
      "    accuracy                           1.00    113508\n",
      "   macro avg       1.00      1.00      1.00    113508\n",
      "weighted avg       1.00      1.00      1.00    113508\n",
      "\n"
     ]
    }
   ],
   "source": [
    "from sklearn.metrics import classification_report\n",
    "\n",
    "y_pred, y_true = [], []\n",
    "valid_correct, valid_total, valid_low_conf = 0, 0, 0\n",
    "with torch.no_grad():\n",
    "    for data, features, labels in valid_loader:\n",
    "        optimizer.zero_grad()\n",
    "        out = model(data.long().to(device), features.to(device))\n",
    "        labels, out = remove_low_conf(labels, out)\n",
    "        y_pred.append(out)\n",
    "        y_true.append(labels)\n",
    "        low_conf = (labels == -1).sum()\n",
    "        valid_correct += (labels == out).sum() - low_conf\n",
    "        valid_total += labels.shape[0] - low_conf\n",
    "        valid_low_conf += low_conf\n",
    "print('Precision: ', classification_report(torch.cat(y_true), torch.cat(y_pred)))"
   ]
  },
  {
   "cell_type": "markdown",
   "metadata": {},
   "source": [
    "The predictions with lower confidence were classified as class -1. Out of the 20000 examples in validation set, 7 were classfied as -1. The precision scores for all the classes were high, and if even higher precision is needed, the remove_low_conf takes an additional threshold parameter which can be set to a higher value. \n",
    "\n",
    "<br><br>\n",
    "The only task left is to classify the test set. "
   ]
  },
  {
   "cell_type": "code",
   "execution_count": null,
   "metadata": {},
   "outputs": [
    {
     "name": "stderr",
     "output_type": "stream",
     "text": [
      "  6%|▌         | 30380/500000 [01:09<17:51, 438.47it/s]"
     ]
    }
   ],
   "source": [
    "transformed_dataset_test = CrimeDiscriptions(test_df, word_dict, test=True)\n",
    "test_loader = DataLoader(transformed_dataset_test, batch_size=1, shuffle=True)\n",
    "\n",
    "y_pred = []\n",
    "with torch.no_grad():\n",
    "    for data, features in tqdm(test_loader):\n",
    "        out = model(data.long().to(device), features.to(device))\n",
    "        out = out.max(1)[1]\n",
    "        y_pred.append(out)\n",
    "y_pred = torch.cat(y_pred)\n",
    "test_df['prediction'] = y_pred.numpy()"
   ]
  },
  {
   "cell_type": "code",
   "execution_count": null,
   "metadata": {},
   "outputs": [],
   "source": [
    "test_df['prediction'] = test_df['prediction'].apply(lambda x: inc_encoding_dict[x])"
   ]
  },
  {
   "cell_type": "code",
   "execution_count": null,
   "metadata": {},
   "outputs": [],
   "source": [
    "test_df"
   ]
  },
  {
   "cell_type": "code",
   "execution_count": null,
   "metadata": {},
   "outputs": [],
   "source": [
    "test_df.to_csv(os.path.join(data_path, 'CrimeDescriptions.csv'))"
   ]
  },
  {
   "cell_type": "markdown",
   "metadata": {},
   "source": [
    "Summary: \n",
    "<br>\n",
    "- CrimeDescriptions.csv file has the classes filled in with the predictions.<br>\n",
    "- The precision scores for all the classes are high, but we have another class with for items classified with low confidence. <br>\n",
    "- Additional feature extracted in form word word matching helped increasing the precision scores. <br>"
   ]
  },
  {
   "cell_type": "code",
   "execution_count": null,
   "metadata": {},
   "outputs": [],
   "source": []
  }
 ],
 "metadata": {
  "kernelspec": {
   "display_name": "Python 3",
   "language": "python",
   "name": "python3"
  },
  "language_info": {
   "codemirror_mode": {
    "name": "ipython",
    "version": 3
   },
   "file_extension": ".py",
   "mimetype": "text/x-python",
   "name": "python",
   "nbconvert_exporter": "python",
   "pygments_lexer": "ipython3",
   "version": "3.9.4"
  }
 },
 "nbformat": 4,
 "nbformat_minor": 1
}
